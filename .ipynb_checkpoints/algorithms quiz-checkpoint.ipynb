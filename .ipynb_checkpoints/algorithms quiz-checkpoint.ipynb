{
 "cells": [
  {
   "cell_type": "code",
   "execution_count": 7,
   "metadata": {},
   "outputs": [],
   "source": [
    "'''Quiz: integer array that outputs a given pair that sums up to a given value'''\n",
    "def array(a,k):\n",
    "    if len(a)<2:\n",
    "        print('too short')\n",
    "        \n",
    "    seen=set()\n",
    "    output=set()\n",
    "    \n",
    "    for n in a:\n",
    "        target=k-n\n",
    "        \n",
    "        if target not in seen:\n",
    "            seen.add(n)\n",
    "        else:\n",
    "            output.add((min(n,target),max(n,target)))\n",
    "    print('\\n'.join(map(str,list(output))))"
   ]
  },
  {
   "cell_type": "code",
   "execution_count": 8,
   "metadata": {},
   "outputs": [
    {
     "name": "stdout",
     "output_type": "stream",
     "text": [
      "(4, 6)\n",
      "(5, 5)\n",
      "(1, 9)\n"
     ]
    }
   ],
   "source": [
    "array([1,9,5,5,6,4],10)"
   ]
  },
  {
   "cell_type": "code",
   "execution_count": null,
   "metadata": {},
   "outputs": [],
   "source": [
    "'''common elements(array) in 2 arguments'''\n",
    "def common(a,b):\n",
    "    p1=0\n",
    "    p2=0\n",
    "    \n",
    "    results=[]\n",
    "    \n",
    "    while p1<len(a) and p2<len(b):\n",
    "        \n",
    "        if a[p1]==b[p2]:\n",
    "            results.append(a[p1])\n",
    "            p1+=1\n",
    "            p2+=2\n",
    "    return results"
   ]
  },
  {
   "cell_type": "code",
   "execution_count": null,
   "metadata": {},
   "outputs": [],
   "source": [
    "common([1,2,4],[0,2,5])"
   ]
  },
  {
   "cell_type": "code",
   "execution_count": null,
   "metadata": {},
   "outputs": [],
   "source": []
  }
 ],
 "metadata": {
  "kernelspec": {
   "display_name": "Python 3",
   "language": "python",
   "name": "python3"
  },
  "language_info": {
   "codemirror_mode": {
    "name": "ipython",
    "version": 3
   },
   "file_extension": ".py",
   "mimetype": "text/x-python",
   "name": "python",
   "nbconvert_exporter": "python",
   "pygments_lexer": "ipython3",
   "version": "3.8.2"
  }
 },
 "nbformat": 4,
 "nbformat_minor": 4
}
